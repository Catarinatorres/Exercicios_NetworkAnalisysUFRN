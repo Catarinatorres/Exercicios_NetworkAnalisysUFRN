{
  "nbformat": 4,
  "nbformat_minor": 0,
  "metadata": {
    "colab": {
      "name": "Untitled2.ipynb",
      "provenance": [],
      "authorship_tag": "ABX9TyMounDqiZ3TZgSCrLcKTWAH",
      "include_colab_link": true
    },
    "kernelspec": {
      "name": "python3",
      "display_name": "Python 3"
    },
    "language_info": {
      "name": "python"
    }
  },
  "cells": [
    {
      "cell_type": "markdown",
      "metadata": {
        "id": "view-in-github",
        "colab_type": "text"
      },
      "source": [
        "<a href=\"https://colab.research.google.com/github/Catarinatorres/Exercicios_NetworkAnalisysUFRN/blob/main/analisederedes.ipynb\" target=\"_parent\"><img src=\"https://colab.research.google.com/assets/colab-badge.svg\" alt=\"Open In Colab\"/></a>"
      ]
    },
    {
      "cell_type": "code",
      "metadata": {
        "id": "qJqlTEzwvJwY"
      },
      "source": [
        "import networkx as nx\n",
        "import pandas as pd\n",
        "\n",
        "df_airports = pd.read_csv(r\"/content/dados_voos/airports.csv\")\n",
        "df_flights = pd.read_csv(r\"/content/dados_voos/anac.csv\")\n",
        "print(df_flights.columns)\n",
        "print(df_airports.columns)\n",
        "\n",
        "\n",
        "\n",
        "# Create graph\n",
        "G = nx.Graph()\n",
        "\n",
        "# Add nodes\n",
        "for index, row in df_airports.iterrows():\n",
        "    G.add_node(row['code'],\n",
        "               name=row['name'],\n",
        "               country=row['country'],\n",
        "               region=row['region'],\n",
        "               latitude=row['lat_geo_point'],\n",
        "               longitude=row['lon_geo_point']\n",
        "               )\n",
        "\n",
        "# Add edges\n",
        "df_edges = df_flights[[\n",
        "    'origin_airport_abbreviation',\n",
        "    'destination_airport_abbreviation',\n",
        "]].dropna()\n",
        "df_edges = df_edges.groupby(df_edges.columns.tolist(), as_index=False).size()\n",
        "for index, row in df_edges.iterrows():\n",
        "    if row['origin_airport_abbreviation'] == row['destination_airport_abbreviation']:\n",
        "        continue\n",
        "    G.add_edge(row['origin_airport_abbreviation'], row['destination_airport_abbreviation'], flight_count=row['size'])\n",
        "\n",
        "\n",
        "\n",
        "\n",
        "\n",
        "# Export to graphml\n",
        "nx.write_graphml(G, r\"/content/dados_voos/air_trafficxx.graphml\")"
      ],
      "execution_count": null,
      "outputs": []
    },
    {
      "cell_type": "markdown",
      "metadata": {
        "id": "KAyItAOL1yKl"
      },
      "source": [
        "# Nova seção"
      ]
    },
    {
      "cell_type": "markdown",
      "metadata": {
        "id": "6oKLXzTSvMBd"
      },
      "source": [
        "# Nova seção"
      ]
    },
    {
      "cell_type": "code",
      "metadata": {
        "id": "m__qMjBLwT3u"
      },
      "source": [
        "!pip install nxviz=='0.6.3'"
      ],
      "execution_count": null,
      "outputs": []
    },
    {
      "cell_type": "code",
      "metadata": {
        "id": "yu2JR27IwraU"
      },
      "source": [
        "# import usefull packages\n",
        "import networkx as nx\n",
        "import matplotlib.pyplot as plt\n",
        "import numpy as np\n",
        "import nxviz as nv\n",
        "import seaborn as sns"
      ],
      "execution_count": 28,
      "outputs": []
    },
    {
      "cell_type": "code",
      "metadata": {
        "id": "8lAwEN5Ewvi8"
      },
      "source": [
        "G = nx.read_graphml(r\"/content/dados_voos/air_trafficxx.graphml\")"
      ],
      "execution_count": 29,
      "outputs": []
    },
    {
      "cell_type": "code",
      "metadata": {
        "id": "Z2p53Xmiwz0M"
      },
      "source": [
        "print(\"The network has {} nodes and {} edges\".format(G.number_of_nodes(),\n",
        "                                                     G.number_of_edges()))"
      ],
      "execution_count": null,
      "outputs": []
    },
    {
      "cell_type": "code",
      "metadata": {
        "id": "pV8kUf06yOwH"
      },
      "source": [
        "# Just look how the nodes are represented in the Network\n",
        "G.nodes(data=True)\n"
      ],
      "execution_count": null,
      "outputs": []
    },
    {
      "cell_type": "code",
      "metadata": {
        "colab": {
          "base_uri": "https://localhost:8080/",
          "height": 380
        },
        "id": "luzCH2aaySZG",
        "outputId": "06ec7e9e-560d-4a44-d369-25ddeb123baa"
      },
      "source": [
        "# Create a Circos Plot\n",
        "c = nv.CircosPlot(G,\n",
        "                  node_color=\"region\",\n",
        "                  node_grouping=\"region\",\n",
        "                  node_order=\"region\",\n",
        "                  group_order=\"alphabetically\",\n",
        "                  group_legend=False,\n",
        "                  node_labels=False,\n",
        "                  group_label_position=\"middle\",\n",
        "                  group_label_color=False,figsize=(10,8))\n",
        "\n",
        "# Draw c to the screen\n",
        "c.draw()\n",
        "\n",
        "# If there is a continuous datatype for the nodes, \n",
        "# it will be reflected in self.sm being constructed\n",
        "# It will then automatically add in a colorbar \n",
        "# to the plot and scale the plot axes accordingly\n",
        "# we need remove the colobar in this case\n",
        "c.sm.colorbar.remove()\n",
        "\n",
        "# Save figure\n",
        "plt.savefig(\"assortativity.png\", \n",
        "            format=\"png\",\n",
        "            dpi=400, \n",
        "            bbox_inches=\"tight\",\n",
        "            transparent=True)\n",
        "\n",
        "# Display graph\n",
        "plt.show()"
      ],
      "execution_count": 32,
      "outputs": [
        {
          "output_type": "error",
          "ename": "TypeError",
          "evalue": "ignored",
          "traceback": [
            "\u001b[0;31m---------------------------------------------------------------------------\u001b[0m",
            "\u001b[0;31mTypeError\u001b[0m                                 Traceback (most recent call last)",
            "\u001b[0;32m<ipython-input-32-4dcce8973073>\u001b[0m in \u001b[0;36m<module>\u001b[0;34m()\u001b[0m\n\u001b[1;32m      8\u001b[0m                   \u001b[0mnode_labels\u001b[0m\u001b[0;34m=\u001b[0m\u001b[0;32mFalse\u001b[0m\u001b[0;34m,\u001b[0m\u001b[0;34m\u001b[0m\u001b[0;34m\u001b[0m\u001b[0m\n\u001b[1;32m      9\u001b[0m                   \u001b[0mgroup_label_position\u001b[0m\u001b[0;34m=\u001b[0m\u001b[0;34m\"middle\"\u001b[0m\u001b[0;34m,\u001b[0m\u001b[0;34m\u001b[0m\u001b[0;34m\u001b[0m\u001b[0m\n\u001b[0;32m---> 10\u001b[0;31m                   group_label_color=False,figsize=(10,8))\n\u001b[0m\u001b[1;32m     11\u001b[0m \u001b[0;34m\u001b[0m\u001b[0m\n\u001b[1;32m     12\u001b[0m \u001b[0;31m# Draw c to the screen\u001b[0m\u001b[0;34m\u001b[0m\u001b[0;34m\u001b[0m\u001b[0;34m\u001b[0m\u001b[0m\n",
            "\u001b[0;32m/usr/local/lib/python3.7/dist-packages/nxviz/plots.py\u001b[0m in \u001b[0;36m__init__\u001b[0;34m(self, graph, **kwargs)\u001b[0m\n\u001b[1;32m    520\u001b[0m \u001b[0;34m\u001b[0m\u001b[0m\n\u001b[1;32m    521\u001b[0m         \u001b[0;31m#\u001b[0m\u001b[0;34m\u001b[0m\u001b[0;34m\u001b[0m\u001b[0;34m\u001b[0m\u001b[0m\n\u001b[0;32m--> 522\u001b[0;31m         \u001b[0msuper\u001b[0m\u001b[0;34m(\u001b[0m\u001b[0mCircosPlot\u001b[0m\u001b[0;34m,\u001b[0m \u001b[0mself\u001b[0m\u001b[0;34m)\u001b[0m\u001b[0;34m.\u001b[0m\u001b[0m__init__\u001b[0m\u001b[0;34m(\u001b[0m\u001b[0mgraph\u001b[0m\u001b[0;34m,\u001b[0m \u001b[0;34m**\u001b[0m\u001b[0mkwargs\u001b[0m\u001b[0;34m)\u001b[0m\u001b[0;34m\u001b[0m\u001b[0;34m\u001b[0m\u001b[0m\n\u001b[0m\u001b[1;32m    523\u001b[0m \u001b[0;34m\u001b[0m\u001b[0m\n\u001b[1;32m    524\u001b[0m         \u001b[0;31m# Add legend to plot\u001b[0m\u001b[0;34m\u001b[0m\u001b[0;34m\u001b[0m\u001b[0;34m\u001b[0m\u001b[0m\n",
            "\u001b[0;32m/usr/local/lib/python3.7/dist-packages/nxviz/plots.py\u001b[0m in \u001b[0;36m__init__\u001b[0;34m(self, graph, node_order, node_size, node_grouping, group_order, node_color, node_labels, edge_width, edge_color, data_types, nodeprops, edgeprops, node_label_color, group_label_position, group_label_color, fontsize, fontfamily, legend_handles, **kwargs)\u001b[0m\n\u001b[1;32m    133\u001b[0m         \u001b[0mself\u001b[0m\u001b[0;34m.\u001b[0m\u001b[0mnode_grouping\u001b[0m \u001b[0;34m=\u001b[0m \u001b[0mnode_grouping\u001b[0m\u001b[0;34m\u001b[0m\u001b[0;34m\u001b[0m\u001b[0m\n\u001b[1;32m    134\u001b[0m         \u001b[0mself\u001b[0m\u001b[0;34m.\u001b[0m\u001b[0mgroup_order\u001b[0m \u001b[0;34m=\u001b[0m \u001b[0mgroup_order\u001b[0m\u001b[0;34m\u001b[0m\u001b[0;34m\u001b[0m\u001b[0m\n\u001b[0;32m--> 135\u001b[0;31m         \u001b[0mself\u001b[0m\u001b[0;34m.\u001b[0m\u001b[0mgroup_and_sort_nodes\u001b[0m\u001b[0;34m(\u001b[0m\u001b[0;34m)\u001b[0m\u001b[0;34m\u001b[0m\u001b[0;34m\u001b[0m\u001b[0m\n\u001b[0m\u001b[1;32m    136\u001b[0m \u001b[0;34m\u001b[0m\u001b[0m\n\u001b[1;32m    137\u001b[0m         \u001b[0;31m# Set node radius\u001b[0m\u001b[0;34m\u001b[0m\u001b[0;34m\u001b[0m\u001b[0;34m\u001b[0m\u001b[0m\n",
            "\u001b[0;32m/usr/local/lib/python3.7/dist-packages/nxviz/plots.py\u001b[0m in \u001b[0;36mgroup_and_sort_nodes\u001b[0;34m(self)\u001b[0m\n\u001b[1;32m    454\u001b[0m                     for n, d in sorted(\n\u001b[1;32m    455\u001b[0m                         \u001b[0mself\u001b[0m\u001b[0;34m.\u001b[0m\u001b[0mgraph\u001b[0m\u001b[0;34m.\u001b[0m\u001b[0mnodes\u001b[0m\u001b[0;34m(\u001b[0m\u001b[0mdata\u001b[0m\u001b[0;34m=\u001b[0m\u001b[0;32mTrue\u001b[0m\u001b[0;34m)\u001b[0m\u001b[0;34m,\u001b[0m\u001b[0;34m\u001b[0m\u001b[0;34m\u001b[0m\u001b[0m\n\u001b[0;32m--> 456\u001b[0;31m                         key=lambda x: (\n\u001b[0m\u001b[1;32m    457\u001b[0m                             \u001b[0mx\u001b[0m\u001b[0;34m[\u001b[0m\u001b[0;36m1\u001b[0m\u001b[0;34m]\u001b[0m\u001b[0;34m[\u001b[0m\u001b[0mself\u001b[0m\u001b[0;34m.\u001b[0m\u001b[0mnode_grouping\u001b[0m\u001b[0;34m]\u001b[0m\u001b[0;34m,\u001b[0m\u001b[0;34m\u001b[0m\u001b[0;34m\u001b[0m\u001b[0m\n\u001b[1;32m    458\u001b[0m                             \u001b[0mx\u001b[0m\u001b[0;34m[\u001b[0m\u001b[0;36m1\u001b[0m\u001b[0;34m]\u001b[0m\u001b[0;34m[\u001b[0m\u001b[0mself\u001b[0m\u001b[0;34m.\u001b[0m\u001b[0mnode_order\u001b[0m\u001b[0;34m]\u001b[0m\u001b[0;34m,\u001b[0m\u001b[0;34m\u001b[0m\u001b[0;34m\u001b[0m\u001b[0m\n",
            "\u001b[0;31mTypeError\u001b[0m: '<' not supported between instances of 'str' and 'float'"
          ]
        }
      ]
    }
  ]
}